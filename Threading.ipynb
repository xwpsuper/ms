{
 "cells": [
  {
   "cell_type": "code",
   "execution_count": 17,
   "metadata": {},
   "outputs": [
    {
     "name": "stdout",
     "output_type": "stream",
     "text": [
      "Start playing： 爱情买卖.mp3! Sun Jul 15 15:06:11 2018\n",
      "Start playing： 阿凡达.mp4! Sun Jul 15 15:06:11 2018Start playing： 我和你.mp3! Sun Jul 15 15:06:11 2018\n",
      "\n",
      "Start playing： 爱情买卖.mp3! Sun Jul 15 15:06:14 2018\n",
      "Start playing： 我和你.mp3! Sun Jul 15 15:06:15 2018\n",
      "Start playing： 阿凡达.mp4! Sun Jul 15 15:06:16 2018\n",
      "end: Sun Jul 15 15:06:21 2018\n"
     ]
    }
   ],
   "source": [
    "from time import sleep, ctime \n",
    "import threading\n",
    "\n",
    "def super_player(file,time):\n",
    "    for i in range(2):\n",
    "        print('Start playing： %s! %s' %(file,ctime()))\n",
    "        sleep(time)\n",
    "\n",
    "#播放的文件与播放时长\n",
    "list = {'爱情买卖.mp3':3,'阿凡达.mp4':5,'我和你.mp3':4}\n",
    "\n",
    "threads = []\n",
    "files = range(len(list))\n",
    "\n",
    "for file, time in list.items():\n",
    "    t = threading.Thread(target = super_player, args = (file, time))\n",
    "    threads.append(t)\n",
    "    \n",
    "if __name__ == '__main__':\n",
    "    for i in files:\n",
    "        threads[i].start()\n",
    "    for i in files:\n",
    "        threads[i] .join()\n",
    "    print('end: %s' % ctime())"
   ]
  },
  {
   "cell_type": "code",
   "execution_count": null,
   "metadata": {},
   "outputs": [],
   "source": []
  }
 ],
 "metadata": {
  "kernelspec": {
   "display_name": "Python 3",
   "language": "python",
   "name": "python3"
  },
  "language_info": {
   "codemirror_mode": {
    "name": "ipython",
    "version": 3
   },
   "file_extension": ".py",
   "mimetype": "text/x-python",
   "name": "python",
   "nbconvert_exporter": "python",
   "pygments_lexer": "ipython3",
   "version": "3.6.3"
  }
 },
 "nbformat": 4,
 "nbformat_minor": 2
}
